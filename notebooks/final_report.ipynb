{
 "cells": [
  {
   "cell_type": "markdown",
   "id": "b30887af-cc79-417a-ae20-ef24c3b1e83c",
   "metadata": {},
   "source": [
    "<div dir=\"rtl\" style=\"text-align: right; font-family: 'Arial'; font-size: 20px;font-weight: bold\">\n",
    "التقرير التحليلي: سلوك العملاء في قطاع التجزئة\n",
    "</div>"
   ]
  },
  {
   "cell_type": "markdown",
   "id": "3c4b05b0-f5e7-41a8-af13-f841f8a6950e",
   "metadata": {},
   "source": [
    "<div dir=\"rtl\" style=\"text-align: right; font-family: 'Arial'; font-size: 18px;font-weight: bold\">\n",
    "1. المقدمة (Introduction)\n",
    "</div>"
   ]
  },
  {
   "cell_type": "markdown",
   "id": "e0d918b3-a939-4286-a20b-db2db6e4c763",
   "metadata": {},
   "source": [
    "<div dir=\"rtl\" style=\"text-align: right; font-family: 'Arial'; font-size: 16px;\">\n",
    "يتناول هذا المشروع تحليل السلوك الشرائي لمجموعة من العملاء بناءً على عدة متغيرات مثل العمر، الدخل السنوي، معدل الإنفاق، وتكرار الشراء، بالإضافة إلى فئة المنتج المفضل لكل عميل.\n",
    "هدف التحليل هو استخلاص رؤى تسويقية واضحة تساعد على تحسين استراتيجيات البيع، واستهداف الشرائح الأعلى ربحية، وتعزيز كفاءة العروض التسويقية.\n",
    "</div>"
   ]
  },
  {
   "cell_type": "markdown",
   "id": "2f88c607-fed2-4dba-aafb-2f3a8f7b14cf",
   "metadata": {},
   "source": [
    "<div dir=\"rtl\" style=\"text-align: right; font-family: 'Arial'; font-size: 18px;font-weight: bold\">\n",
    "2. نظرة عامة على البيانات (Data Overview)\n",
    "</div>"
   ]
  },
  {
   "cell_type": "markdown",
   "id": "01af3fdd-5c9a-4679-bef6-2cd7a1c5f588",
   "metadata": {},
   "source": [
    "<div dir=\"rtl\" style=\"text-align: right; font-family: 'Arial'; font-size: 16px; white-space: pre-wrap;\">\n",
    "عدد السجلات: 1000 سجل لعملاء مختلفين\n",
    "عدد الأعمدة: 7 أعمدة رئيسية\n",
    "الجودة: تم التأكد من سلامة البيانات، وخلوّها من القيم المفقودة أو القيم المتطرفة غير المنطقية\n",
    "المعالجة: تم تحويل نوع عمود التاريخ إلى نوع تاريخي مناسب للتحليل الزمني\n",
    "</div>"
   ]
  },
  {
   "cell_type": "markdown",
   "id": "5dd3714d-298b-4aa6-b56d-b0067e0d2f3e",
   "metadata": {},
   "source": [
    "<div dir=\"rtl\" style=\"text-align: right; font-family: 'Arial'; font-size: 18px;font-weight: bold\">\n",
    "3. التحليل الاستكشافي (Exploratory Data Analysis - EDA)\n",
    "</div>"
   ]
  },
  {
   "cell_type": "markdown",
   "id": "4d30e531-428d-4eda-b3ac-7e71d5e076dd",
   "metadata": {},
   "source": [
    "<div dir=\"rtl\" style=\"text-align: right; font-family: 'Arial'; font-size: 16px; white-space: pre-wrap;\">\n",
    "الفئة العمرية المتوسطة تُمثل النسبة الأكبر من العملاء، تليها الفئة الأصغر سنًا\n",
    "التوزيع بين الجنسين متقارب جدًا، دون تمييز واضح في العدد\n",
    "أكثر المنتجات شراءً هي الأدوات الرياضية وأدوات التجميل، مما يعكس التوازن بين الذكور والإناث، إذ يميل الذكور لشراء الرياضة، والإناث للتجميل\n",
    "العملاء ذوو الدخل المرتفع يميلون إلى الإنفاق بمعدل أعلى مقارنة بالفئات الأخرى\n",
    "سلوك الإنفاق مرتبط أكثر بالعمر والدخل، مع وجود تباين في فئات المنتجات المفضلة حسب الشرائح\n",
    "</div>"
   ]
  },
  {
   "cell_type": "markdown",
   "id": "657afddd-7edd-4706-8971-06bdf2b02fd4",
   "metadata": {},
   "source": [
    "<div dir=\"rtl\" style=\"text-align: right; font-family: 'Arial'; font-size: 18px;font-weight: bold\">\n",
    "4. الرؤى والتحليلات (Insights)\n",
    "</div>"
   ]
  },
  {
   "cell_type": "markdown",
   "id": "e3201b8c-cc2d-4427-811b-eaf51dcbf325",
   "metadata": {},
   "source": [
    "<div dir=\"rtl\" style=\"text-align: right; font-family: 'Arial'; font-size: 16px; white-space: pre-wrap;\">\n",
    "الفئات ذات الدخل المتوسط أو الأدنى غالبًا ما تنفق أكثر على المنتجات الاستهلاكية من الفئات ذات الدخل المرتفع، ويُرجح أن يكون السبب نفسيًا واجتماعيًا\n",
    "كبار السن ليسوا من الفئات الأعلى إنفاقًا على المنتجات الاستهلاكية؛ إذ لديهم أولويات مختلفة\n",
    "عدد العملاء من فئة \"العملاء الذهبيين\" (ذوو الدخل المرتفع والإنفاق العالي) قليل نسبيًا، لكنهم يمثلون شريحة مهمة يجب التركيز عليها\n",
    "فئات مثل \"الألعاب\" و**\"التجميل\"** تُعد من المحفزات القوية للشراء، خاصة أنها تدخل ضمن الهدايا أو الاهتمام بالذات\n",
    "</div>"
   ]
  },
  {
   "cell_type": "markdown",
   "id": "a817839d-8244-46c6-87b4-6168f82d1656",
   "metadata": {},
   "source": [
    "<div dir=\"rtl\" style=\"text-align: right; font-family: 'Arial'; font-size: 18px;font-weight: bold\">\n",
    "5. التوصيات (Recommendations)\n",
    "</div>"
   ]
  },
  {
   "cell_type": "markdown",
   "id": "0cf1c930-a9a2-46c0-9d96-602d3e805650",
   "metadata": {},
   "source": [
    "<div dir=\"rtl\" style=\"text-align: right; font-family: 'Arial'; font-size: 16px; white-space: pre-wrap;\">\n",
    "💎 إطلاق حملات وعروض مخصصة للعملاء الذهبيين لتحفيز ولائهم وزيادة معدل تكرار الشراء\n",
    "🎯 تعزيز إنفاق الفئة المتوسطة من خلال بطاقات خصم أو نقاط ولاء وعروض مجمعة\n",
    "📊 تصميم خطة تسويقية مخصصة لكل فئة من العملاء حسب العمر والدخل وتكرار الشراء\n",
    "🆕 استكشاف فئات منتجات جديدة (مثل الإلكترونيات أو ألعاب الفيديو) لتوسيع قاعدة العملاء واستهداف شرائح \n",
    "</div>"
   ]
  },
  {
   "cell_type": "code",
   "execution_count": null,
   "id": "473a5349-5b8b-4a25-b370-7e802a65705f",
   "metadata": {},
   "outputs": [],
   "source": []
  }
 ],
 "metadata": {
  "kernelspec": {
   "display_name": "Python 3 (ipykernel)",
   "language": "python",
   "name": "python3"
  },
  "language_info": {
   "codemirror_mode": {
    "name": "ipython",
    "version": 3
   },
   "file_extension": ".py",
   "mimetype": "text/x-python",
   "name": "python",
   "nbconvert_exporter": "python",
   "pygments_lexer": "ipython3",
   "version": "3.13.3"
  }
 },
 "nbformat": 4,
 "nbformat_minor": 5
}
